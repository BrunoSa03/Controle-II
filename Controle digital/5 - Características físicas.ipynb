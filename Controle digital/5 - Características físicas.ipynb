{
 "cells": [
  {
   "cell_type": "markdown",
   "id": "bb94791f-2454-47dc-893f-9399b2f3900d",
   "metadata": {},
   "source": [
    "## Características físicas"
   ]
  },
  {
   "cell_type": "markdown",
   "id": "2435b975-8e76-45b3-96c2-bad6cb663736",
   "metadata": {},
   "source": [
    "### Conversor AD\n",
    "\n",
    "Resolução\n",
    "\n",
    "Tempo de conversão\n",
    "\n",
    "Custo e consumo de energia"
   ]
  },
  {
   "cell_type": "markdown",
   "id": "e5b24044-61de-4e7b-9e54-ab393a36a10a",
   "metadata": {},
   "source": [
    "### Conversor DA\n",
    "\n",
    "Resolução\n",
    "\n",
    "Tempo de conversão\n",
    "\n",
    "Custo e consumo de energia"
   ]
  },
  {
   "cell_type": "markdown",
   "id": "7a8f728b-6845-4352-aaf4-c5049e0d5f1b",
   "metadata": {},
   "source": [
    "### Alias, pré-filtros antialias\n",
    "\n",
    "Teorema da amostragem\n",
    "\n",
    "O que é \"alias\"?\n",
    "\n",
    "Filtros anti-alias\n"
   ]
  },
  {
   "cell_type": "markdown",
   "id": "3a6d63e8-e239-4555-9e83-b0569bb53f34",
   "metadata": {},
   "source": [
    "### Computador, microcontrolador\n",
    "\n",
    "Computadores para controle de processos\n",
    "\n",
    "Aspectos adicionais interessantes\n",
    " - Múltiplos processos\n",
    " - Redes industriais\n",
    " - Monitoramento\n",
    " \n",
    "Microprocessadores\n",
    "\n",
    "Microcontroladores\n",
    "\n",
    "CLPs"
   ]
  }
 ],
 "metadata": {
  "kernelspec": {
   "display_name": "Python 3 (ipykernel)",
   "language": "python",
   "name": "python3"
  },
  "language_info": {
   "codemirror_mode": {
    "name": "ipython",
    "version": 3
   },
   "file_extension": ".py",
   "mimetype": "text/x-python",
   "name": "python",
   "nbconvert_exporter": "python",
   "pygments_lexer": "ipython3",
   "version": "3.11.1"
  }
 },
 "nbformat": 4,
 "nbformat_minor": 5
}
