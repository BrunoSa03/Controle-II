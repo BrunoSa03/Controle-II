{
 "cells": [
  {
   "cell_type": "markdown",
   "id": "ab56d1fc",
   "metadata": {},
   "source": [
    "Introdução aos sistemas de controle digital\n",
    "\n",
    "Tópico dentro do curso de Sistemas de Controle II (bacharelado em Eng. Elétrica, currículo atual)\n",
    "\n",
    "Programa principal\n",
    "\n",
    "- Motivação para o controle digital\n",
    "- Elementos de uma malha de controle digital\n",
    "- Conversão AD - fundamentos de análise de sinal\n",
    "- Conversão DA - fundamentos de análise de sinal\n",
    "- Amostragem e modelos de sinais discretos\n",
    "- Sinais discretos elementares\n",
    "- Equações de diferenças\n",
    "- Transformada Z\n",
    "- Análise de sistemas em tempo discreto\n",
    "- Equivalente discreto trapezoidal\n",
    "- Equivalente discreto por ZOH\n",
    "- Equivalente discreto por mapeamento\n",
    "- Algoritmo de alocação de pólos\n",
    "- LGR discreto\n"
   ]
  }
 ],
 "metadata": {
  "kernelspec": {
   "display_name": "Python 3 (ipykernel)",
   "language": "python",
   "name": "python3"
  },
  "language_info": {
   "codemirror_mode": {
    "name": "ipython",
    "version": 3
   },
   "file_extension": ".py",
   "mimetype": "text/x-python",
   "name": "python",
   "nbconvert_exporter": "python",
   "pygments_lexer": "ipython3",
   "version": "3.11.1"
  }
 },
 "nbformat": 4,
 "nbformat_minor": 5
}
