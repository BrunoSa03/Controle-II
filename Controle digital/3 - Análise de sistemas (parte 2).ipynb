{
 "cells": [
  {
   "cell_type": "markdown",
   "id": "bbadc7da",
   "metadata": {},
   "source": [
    "# Análise dinâmica de sistemas discretos"
   ]
  },
  {
   "cell_type": "markdown",
   "id": "2cb5840c-8256-44a3-919f-7c0a9559440b",
   "metadata": {},
   "source": [
    "## Equações de diferenças\n",
    "\n",
    "São análogas às equações diferenciais, porém ao invés de derivadas, a função de saída aparece deslocada no tempo, p.ex.: $y[k+1]$, $y[k-2]$. Neste caso, a resposta é uma sequência de valores, que pode ser obtida resolvendo a equação analiticamente ou numericamente (mais fácil).\n",
    "\n",
    "Um exemplo clássico é a equação de Fibonacci: $y[k+2] = y[k+1]+y[k]$, com $y[0]=0$, $y[1]=1$. Experimente calcular.\n",
    "\n",
    "A implementação dessas equações é trivial usando *loops* (estruturas de repetição) computacionais. É desta forma que implementamos um controlador no programa de microcontrolador."
   ]
  },
  {
   "cell_type": "code",
   "execution_count": 2,
   "id": "5223454d-f7c2-4285-8c4e-25849b914f43",
   "metadata": {
    "tags": []
   },
   "outputs": [
    {
     "name": "stdout",
     "output_type": "stream",
     "text": [
      "Sequência de Fibonacci:  [ 0.  1.  1.  2.  3.  5.  8. 13. 21. 34.]\n"
     ]
    },
    {
     "data": {
      "image/png": "[encoded data removed]",
      "text/plain": [
       "<Figure size 640x480 with 1 Axes>"
      ]
     },
     "metadata": {},
     "output_type": "display_data"
    }
   ],
   "source": [
    "import numpy as np\n",
    "from matplotlib import pyplot as plt\n",
    "y = np.zeros(10)\n",
    "y[0] = 0\n",
    "y[1] = 1\n",
    "for k in range(len(y)-2):\n",
    "    y[k+2] = y[k+1] + y[k]\n",
    "    \n",
    "print('Sequência de Fibonacci: ', y)\n",
    "plt.stem(y);"
   ]
  },
  {
   "cell_type": "markdown",
   "id": "194ab3eb-b182-4871-a414-6b741bf10c43",
   "metadata": {},
   "source": [
    "Equações de diferenças representativas de sistemas reais podem surgir basicamente de duas formas:  \n",
    "(a) Da discretização do sistema contínuo (equivalente discreto)  \n",
    "(b) Da identificação do sistema contínuo usando regressão linear (identificação de sistemas)"
   ]
  },
  {
   "cell_type": "markdown",
   "id": "87b1d28b-0a19-4bd6-a512-95b699d9d9c4",
   "metadata": {},
   "source": [
    "## Função de transferência discreta\n",
    "\n",
    "O procedimento para encontrar a função de transferência discreta é o mesmo aplicado a equações diferenciais, apenas atentando para a propriedade $\\mathcal{Z}\\{y[k+1]\\}=zY(z)$ ou $\\mathcal{Z}\\{y[k-1]\\}=z^{-1}Y(z)$\n",
    "\n",
    "**Exemplo:** \n",
    "$$\n",
    "\\begin{align}\n",
    "    y[k+2] + 10y[k] = 8x[k-1]\n",
    "\\end{align}\n",
    "$$\n",
    "\n",
    "Aplicando a transformada $\\mathcal{Z}$\n",
    "$$\n",
    "\\begin{align}\n",
    "   z^2Y(z) + 10Y(z) &=8z^{-1}X(z)\\\\\n",
    "   (z^2+10)Y(z) &= \\frac{8X(z)}{z}\\\\\n",
    "   \\frac{Y(z)}{X(z)} &= \\frac{8}{z(z^2+10)}\n",
    "\\end{align}\n",
    "$$\n",
    "\n"
   ]
  },
  {
   "cell_type": "markdown",
   "id": "289c7caa-ead7-491e-86ae-c967f01aa600",
   "metadata": {},
   "source": [
    "Da mesma forma que o caso contínuo, definimos para funções de transferência discretas:\n",
    "- Pólos: raízes do denominador\n",
    "- Zeros: raízes do numerador"
   ]
  },
  {
   "cell_type": "markdown",
   "id": "819edc41-2037-443c-8ab9-b49affcf7f80",
   "metadata": {},
   "source": [
    "As características dos pólos do sistema definem que tipo de resposta ele vai apresentar.\n",
    "\n",
    "**Estabilidade**\n",
    " - O sistema é estável se todos os pólos estão dentro do círculo unitário $|z|<1$\n",
    " - O sistema é instável se um ou mais pólos estão fora do círculo unitário $|z|\\geq 1$\n",
    "\n",
    "**Tipo de resposta**\n",
    " - Sobre amortecida ($\\xi>1$): pólos reais e distintos\n",
    " - Criticamente amortecida ($\\xi=1$): pólos reais e iguais\n",
    " - Sub amortecida ($\\xi<1$): pólos imaginários conjugados estáveis\n",
    " - Oscilatória (senoidal pura): pólos imaginários em cima do círculo $|z|=1$\n",
    " - Alternante (oscila, mas não senoidal): pólos reais negativos\n",
    " - Integrador: $z=1$"
   ]
  },
  {
   "cell_type": "markdown",
   "id": "782462cc",
   "metadata": {},
   "source": [
    "<center> <img src=\"Fig8.5.svg\"> </center>"
   ]
  },
  {
   "cell_type": "code",
   "execution_count": 18,
   "id": "be2a110d-9973-4fc5-b9f7-85c09794eefd",
   "metadata": {
    "tags": []
   },
   "outputs": [
    {
     "data": {
      "image/png": "[encoded data removed]",
      "text/plain": [
       "<Figure size 640x480 with 1 Axes>"
      ]
     },
     "metadata": {},
     "output_type": "display_data"
    }
   ],
   "source": [
    "import control as ct\n",
    "import numpy as np\n",
    "\n",
    "T = 0.1\n",
    "s1 = np.array([-1,-2])\n",
    "s2 = np.array([-1,-1])\n",
    "s3 = np.array([-1+1j, -1-1j])\n",
    "s4 = np.array([1j, -1j])\n",
    "\n",
    "z1 = np.exp(s1*T)\n",
    "z2 = np.exp(s2*T)\n",
    "z3 = np.exp(s3*T)\n",
    "z4 = np.exp(s4*T)\n",
    "\n",
    "num = [1,0,0]\n",
    "den = np.poly(z4)\n",
    "H = ct.tf(num,den,T)\n",
    "H = H/H.dcgain()\n",
    "t,y = ct.step_response(H,10)\n",
    "plt.step(t,y);"
   ]
  },
  {
   "cell_type": "markdown",
   "id": "b7cb23e6",
   "metadata": {},
   "source": [
    "## Ganho DC\n",
    "\n",
    "Para um sistema contínuo sem pólos na origem, o ganho DC é o valor da da função de transferência quando $s\\rightarrow 0$. O ganho DC informa o quanto a saída vai aumentar ou diminuir em relação à entrada, quando esta é um sinal constante. \n",
    "\n",
    "O ganho DC discreto possui a mesma interpretação, mas devido ao mapeamento no plano $z$, ele é definido como o valor da função de transferência quando $z\\rightarrow 1$. \n",
    "\n",
    "**Exemplo:** $G(z) = \\displaystyle \\frac{0.0009(z+1)^2}{z(z-0.9)(z-0.8e^{j0.1})(z-0.8e^{-j0.1})}$\n",
    "\n",
    "Como todos os pólos são estáveis:\n",
    "$$\n",
    "\\begin{align}\n",
    "K_{dc} &= G(1) = \\frac{0.0009\\cdot(1+1)^2}{1\\cdot(1-0.9)\\cdot(1-0.8e^{j0.1})\\cdot(1-0.8e^{-j0.1})}\n",
    "\\end{align}\n",
    "$$"
   ]
  },
  {
   "cell_type": "code",
   "execution_count": 28,
   "id": "9ef2411b-ac3a-480d-82c1-c4a743c0e292",
   "metadata": {
    "tags": []
   },
   "outputs": [
    {
     "data": {
      "text/latex": [
       "$\\displaystyle G(z) = \\frac{0.0009 \\left(z + 1\\right)^{2}}{z \\left(z - 0.9\\right) \\left(z - 0.8 e^{- 0.1 i}\\right) \\left(z - 0.8 e^{0.1 i}\\right)}$"
      ],
      "text/plain": [
       "<IPython.core.display.Math object>"
      ]
     },
     "metadata": {},
     "output_type": "display_data"
    },
    {
     "data": {
      "text/latex": [
       "$\\displaystyle K_{dc} = \\frac{0.036}{\\left(1 - 0.8 e^{- 0.1 i}\\right) \\left(1 - 0.8 e^{0.1 i}\\right)}$"
      ],
      "text/plain": [
       "<IPython.core.display.Math object>"
      ]
     },
     "metadata": {},
     "output_type": "display_data"
    },
    {
     "data": {
      "text/latex": [
       "$\\displaystyle K_{dc} = 0.750104$"
      ],
      "text/plain": [
       "<IPython.core.display.Math object>"
      ]
     },
     "metadata": {},
     "output_type": "display_data"
    }
   ],
   "source": [
    "import sympy as sp\n",
    "from IPython.display import display, Math\n",
    "\n",
    "dmath = lambda s: display(Math(s))\n",
    "\n",
    "z = sp.symbols('z')\n",
    "G = 0.0009*(z+1)**2/(z*(z-0.9)*(z-0.8*sp.exp(.1j))*(z-0.8*sp.exp(-.1j)))\n",
    "dmath('G(z) = ' + sp.latex(G))\n",
    "dmath(r'K_{dc} = ' + sp.latex(G.subs(z,1)))\n",
    "dmath(r'K_{dc} = ' + sp.latex(G.subs(z,1).evalf(6)))"
   ]
  },
  {
   "cell_type": "code",
   "execution_count": 34,
   "id": "c930bb27-ea88-48e8-96f7-dbc6b9ad9aff",
   "metadata": {
    "tags": []
   },
   "outputs": [
    {
     "name": "stdout",
     "output_type": "stream",
     "text": [
      "Ganho DC:  0.7501041464106208\n",
      "\n"
     ]
    },
    {
     "data": {
      "text/latex": [
       "$\\displaystyle y[\\infty] = 0.7501039766960299$"
      ],
      "text/plain": [
       "<IPython.core.display.Math object>"
      ]
     },
     "metadata": {},
     "output_type": "display_data"
    },
    {
     "data": {
      "image/png": "[encoded data removed]",
      "text/plain": [
       "<Figure size 640x480 with 1 Axes>"
      ]
     },
     "metadata": {},
     "output_type": "display_data"
    }
   ],
   "source": [
    "# Ou usando apenas o pacote control\n",
    "num = 9e-4*np.poly([-1,-1])\n",
    "den = np.poly([0,0.9,0.8*np.exp(0.1j),0.8*np.exp(-0.1j)])\n",
    "Gz = ct.tf(num,den,1)       # Período de amostragem não foi dado, então usamos 1\n",
    "print('Ganho DC: ', Gz.dcgain())\n",
    "print('')\n",
    "t,y = ct.step_response(Gz)\n",
    "degrau = np.ones(t.size)\n",
    "plt.step(t,y,t,degrau);\n",
    "plt.grid()\n",
    "dmath(r'y[\\infty] = ' + f'{y[-1]}')"
   ]
  },
  {
   "cell_type": "markdown",
   "id": "e9afa155-4acf-4500-b221-80febef44d0c",
   "metadata": {},
   "source": [
    "Quando o sistema possui um ou mais integradores, o ganho DC é calculado da mesma forma, porém removendo os integradores. A interpretação nesse caso é diferente, por ele mede o erro não mais em relação a um degrau, mas a uma entrada equivalente ao número de integradores (rampa, parábola, etc.)"
   ]
  }
 ],
 "metadata": {
  "kernelspec": {
   "display_name": "Python 3 (ipykernel)",
   "language": "python",
   "name": "python3"
  },
  "language_info": {
   "codemirror_mode": {
    "name": "ipython",
    "version": 3
   },
   "file_extension": ".py",
   "mimetype": "text/x-python",
   "name": "python",
   "nbconvert_exporter": "python",
   "pygments_lexer": "ipython3",
   "version": "3.11.1"
  }
 },
 "nbformat": 4,
 "nbformat_minor": 5
}
