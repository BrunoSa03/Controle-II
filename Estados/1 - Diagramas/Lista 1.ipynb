{
 "cells": [
  {
   "attachments": {},
   "cell_type": "markdown",
   "metadata": {},
   "source": [
    "# Lista de Exercícios 1 - Sistemas de Conotrole II"
   ]
  },
  {
   "attachments": {},
   "cell_type": "markdown",
   "metadata": {},
   "source": [
    "1 - Determine a ordem, número de entradas e número de saídas do seguinte sistema. Justifique suas respostas."
   ]
  },
  {
   "cell_type": "code",
   "execution_count": 74,
   "metadata": {},
   "outputs": [
    {
     "data": {
      "text/latex": [
       "$\\displaystyle \\dot{\\mathbf{x}} = \\left[\\begin{array}{rrrr}2.792&1.094&0.114&-0.404\\\\0.508&0.297&0.276&-1.947\\\\1.738&-0.955&2.411&1.617\\\\0.508&-0.143&0.09&-1.098\\\\\\end{array}\\right]\\mathbf{x}+\\left[\\begin{array}{r}-0.288\\\\0.198\\\\-1.102\\\\-1.845\\\\\\end{array}\\right]\\mathbf{u}$"
      ],
      "text/plain": [
       "<IPython.core.display.Math object>"
      ]
     },
     "metadata": {},
     "output_type": "display_data"
    },
    {
     "data": {
      "text/latex": [
       "$\\displaystyle \\mathbf{y} = \\left[\\begin{array}{rrrr}-1.007&0.27&1.233&0.488\\\\\\end{array}\\right]\\mathbf{x} + \\left[\\begin{array}{r}-0.833\\\\\\end{array}\\right]\\mathbf{u}$"
      ],
      "text/plain": [
       "<IPython.core.display.Math object>"
      ]
     },
     "metadata": {},
     "output_type": "display_data"
    }
   ],
   "source": [
    "#\n",
    "import numpy as np\n",
    "from escrever import *\n",
    "from IPython.display import display, Math\n",
    "esc = escrever()\n",
    "\n",
    "n = np.random.randint(4,6)\n",
    "p = np.random.randint(1,4)\n",
    "q = np.random.randint(1,4)\n",
    "\n",
    "A = np.random.randn(n,n).round(decimals=3)\n",
    "B = np.random.randn(n,p).round(decimals=3)\n",
    "C = np.random.randn(q,n).round(decimals=3)\n",
    "D = np.random.randn(q,p).round(decimals=3)\n",
    "\n",
    "def dispss(A,B,C,D):\n",
    "    str1 = r'\\dot{\\mathbf{x}} = ' + esc.dispmat(A) + r'\\mathbf{x}'\n",
    "    str1 = str1 + '+' + esc.dispmat(B) + r'\\mathbf{u}'\n",
    "    str2 = r'\\mathbf{y} = ' + esc.dispmat(C) + r'\\mathbf{x} +'\n",
    "    str2 = str2 + esc.dispmat(D) + r'\\mathbf{u}'\n",
    "    return [str1,str2]\n",
    "\n",
    "esc.sist(A,B,C,D)\n"
   ]
  },
  {
   "attachments": {},
   "cell_type": "markdown",
   "metadata": {},
   "source": [
    "2 - Para o sistema abaixo, determine o diagrama na forma de controlador e as equações de estados na forma matricial na forma de controlador."
   ]
  },
  {
   "cell_type": "code",
   "execution_count": 35,
   "metadata": {},
   "outputs": [
    {
     "data": {
      "text/latex": [
       "$\\displaystyle G(s) = \\frac{14 \\left(s + 0.2\\right) \\left(s + 0.6\\right)}{\\left(s - 9\\right) \\left(s + 6\\right) \\left(s + 10\\right)}$"
      ],
      "text/plain": [
       "<IPython.core.display.Math object>"
      ]
     },
     "metadata": {},
     "output_type": "display_data"
    }
   ],
   "source": [
    "#\n",
    "import sympy as sp\n",
    "z = np.random.randint(low=1,high=10,size=2)\n",
    "p = np.random.randint(-10,10,3)\n",
    "s = sp.symbols('s')\n",
    "L1 = [(s-l) for l in p]\n",
    "L2 = [(s+l/10) for l in z]\n",
    "num = np.random.randint(1,20)*sp.prod(L2)\n",
    "den = sp.prod(L1)\n",
    "G = num/den\n",
    "display(Math('G(s) = ' + sp.latex(G)))\n"
   ]
  },
  {
   "attachments": {},
   "cell_type": "markdown",
   "metadata": {},
   "source": [
    "3 - Estude a controlabilidade do sistema abaixo"
   ]
  },
  {
   "cell_type": "code",
   "execution_count": 73,
   "metadata": {},
   "outputs": [
    {
     "data": {
      "text/latex": [
       "$\\displaystyle \\dot{\\mathbf{x}} = \\left[\\begin{array}{rrr}1&0&0\\\\1&-8&0\\\\0&0&-6\\\\\\end{array}\\right]\\mathbf{x}+\\left[\\begin{array}{r}1\\\\1\\\\0\\\\\\end{array}\\right]\\mathbf{u}$"
      ],
      "text/plain": [
       "<IPython.core.display.Math object>"
      ]
     },
     "metadata": {},
     "output_type": "display_data"
    },
    {
     "data": {
      "text/latex": [
       "$\\displaystyle \\mathbf{y} = \\left[\\begin{array}{rrr}1&0&-2\\\\\\end{array}\\right]\\mathbf{x} + \\left[\\begin{array}{r}0\\\\\\end{array}\\right]\\mathbf{u}$"
      ],
      "text/plain": [
       "<IPython.core.display.Math object>"
      ]
     },
     "metadata": {},
     "output_type": "display_data"
    }
   ],
   "source": [
    "#\n",
    "roll = lambda : np.random.randint(-9,9)\n",
    "A = np.array([[roll(),0,0],[1,roll(),0],[0,0,roll()]])\n",
    "B = np.random.randint(0,2,(3,1))\n",
    "C = np.random.randint(-9,9,(1,3))\n",
    "D = np.array([[0]])\n",
    "esc.sist(A,B,C,D)"
   ]
  },
  {
   "attachments": {},
   "cell_type": "markdown",
   "metadata": {},
   "source": [
    "4 - Para que valores de $k$ o sistema abaixo se torna não controlável?"
   ]
  },
  {
   "cell_type": "code",
   "execution_count": 166,
   "metadata": {},
   "outputs": [
    {
     "data": {
      "text/latex": [
       "$\\displaystyle G(s) = \\frac{5 s - 45}{s^{2} + 4 s + 3}$"
      ],
      "text/plain": [
       "<IPython.core.display.Math object>"
      ]
     },
     "metadata": {},
     "output_type": "display_data"
    }
   ],
   "source": [
    "# Utilize G(s) como:\n",
    "import sympy as sp\n",
    "z = np.random.randint(low=-10,high=10,size=1)\n",
    "p = np.random.randint(-10,10,2)\n",
    "s = sp.symbols('s')\n",
    "L1 = [(s-l) for l in p]\n",
    "L2 = [(s-l) for l in z]\n",
    "num = np.random.randint(1,20)*sp.prod(L2).expand()\n",
    "den = sp.prod(L1).expand()\n",
    "G = num/den\n",
    "display(Math('G(s) = ' + sp.latex(G)))\n"
   ]
  },
  {
   "attachments": {},
   "cell_type": "markdown",
   "metadata": {},
   "source": [
    "5 - Determine a forma de Jordan dos seguintes sistemas:"
   ]
  },
  {
   "cell_type": "code",
   "execution_count": 93,
   "metadata": {},
   "outputs": [
    {
     "data": {
      "text/latex": [
       "$\\displaystyle G(s) = \\frac{2 \\left(s + 0.7\\right) \\left(s + 0.9\\right)}{\\left(s - 7\\right) \\left(s - 6\\right) \\left(s - 5\\right)}$"
      ],
      "text/plain": [
       "<IPython.core.display.Math object>"
      ]
     },
     "metadata": {},
     "output_type": "display_data"
    }
   ],
   "source": [
    "# (a)\n",
    "import sympy as sp\n",
    "z = np.random.randint(low=1,high=10,size=2)\n",
    "p = np.random.randint(-10,10,3)\n",
    "s = sp.symbols('s')\n",
    "L1 = [(s-l) for l in p]\n",
    "L2 = [(s+l/10) for l in z]\n",
    "num = np.random.randint(1,20)*sp.prod(L2)\n",
    "den = sp.prod(L1)\n",
    "G = num/den\n",
    "display(Math('G(s) = ' + sp.latex(G)))\n"
   ]
  },
  {
   "cell_type": "code",
   "execution_count": 125,
   "metadata": {},
   "outputs": [
    {
     "data": {
      "text/latex": [
       "$\\displaystyle G(s) = \\frac{15 \\left(s + 0.3\\right) \\left(s + 0.6\\right)}{s \\left(s - 1\\right)^{3} \\left(s + 2\\right)}$"
      ],
      "text/plain": [
       "<IPython.core.display.Math object>"
      ]
     },
     "metadata": {},
     "output_type": "display_data"
    }
   ],
   "source": [
    "# (b)\n",
    "import sympy as sp\n",
    "z = np.random.randint(low=1,high=10,size=2)\n",
    "p = np.random.randint(-10,10,3)\n",
    "p = np.append(p,[p[-1]]*2)\n",
    "s = sp.symbols('s')\n",
    "L1 = [(s-l) for l in p]\n",
    "L2 = [(s+l/10) for l in z]\n",
    "num = np.random.randint(1,20)*sp.prod(L2)\n",
    "den = sp.prod(L1)\n",
    "G = num/den\n",
    "display(Math('G(s) = ' + sp.latex(G)))\n"
   ]
  },
  {
   "cell_type": "code",
   "execution_count": 140,
   "metadata": {},
   "outputs": [
    {
     "data": {
      "text/latex": [
       "$\\displaystyle G(s) = \\frac{17 \\left(s + 0.1\\right)^{2}}{s^{3} + 7 s^{2} - 31 s - 1017}$"
      ],
      "text/plain": [
       "<IPython.core.display.Math object>"
      ]
     },
     "metadata": {},
     "output_type": "display_data"
    }
   ],
   "source": [
    "# (c)\n",
    "import sympy as sp\n",
    "z = np.random.randint(low=1,high=10,size=2)\n",
    "p = np.random.randint(-10,10,3)\n",
    "s = sp.symbols('s')\n",
    "L1 = [(s-p[0]), s-(p[1]+sp.I*p[2]), s-(p[1]-sp.I*p[2])]\n",
    "L2 = [(s+l/10) for l in z]\n",
    "num = np.random.randint(1,20)*sp.prod(L2)\n",
    "den = sp.prod(L1).expand()\n",
    "G = num/den\n",
    "display(Math('G(s) = ' + sp.latex(G)))\n"
   ]
  },
  {
   "attachments": {},
   "cell_type": "markdown",
   "metadata": {},
   "source": [
    "6 - Determine a forma de controlador do sistema $H(s)$ abaixo. Proponha uma matriz de transformação inversível $\\mathbf{T}$. Transforme o sistema utilizando a matriz proposta."
   ]
  },
  {
   "cell_type": "code",
   "execution_count": 178,
   "metadata": {},
   "outputs": [
    {
     "data": {
      "text/latex": [
       "$\\displaystyle H(s) = \\frac{3 s + 1.8}{s^{2} + 22 s + 121}$"
      ],
      "text/plain": [
       "<IPython.core.display.Math object>"
      ]
     },
     "metadata": {},
     "output_type": "display_data"
    }
   ],
   "source": [
    "# Utilize H(s) como:\n",
    "import sympy as sp\n",
    "z = np.random.randint(low=-10,high=9,size=1)\n",
    "p = np.random.randint(10,20,2)\n",
    "s = sp.symbols('s')\n",
    "L1 = [(s+l) for l in p]\n",
    "L2 = [(s-l/10) for l in z]\n",
    "num = np.random.randint(1,20)*sp.prod(L2).expand()\n",
    "den = sp.prod(L1).expand()\n",
    "H = num/den\n",
    "display(Math('H(s) = ' + sp.latex(H)))\n"
   ]
  },
  {
   "attachments": {},
   "cell_type": "markdown",
   "metadata": {},
   "source": [
    "7 - Para a função de transferência dada, encontre a FCC e a forma de Jordan do sistema. Depois, encontre a matriz de transformação entre as duas formas e verifique o resultado."
   ]
  }
 ],
 "metadata": {
  "kernelspec": {
   "display_name": "Python 3",
   "language": "python",
   "name": "python3"
  },
  "language_info": {
   "codemirror_mode": {
    "name": "ipython",
    "version": 3
   },
   "file_extension": ".py",
   "mimetype": "text/x-python",
   "name": "python",
   "nbconvert_exporter": "python",
   "pygments_lexer": "ipython3",
   "version": "3.11.1"
  },
  "orig_nbformat": 4,
  "vscode": {
   "interpreter": {
    "hash": "f43b9f0468558e883c45727ce3dc698e7795bc0630df88d4bf17eef171fcc3ac"
   }
  }
 },
 "nbformat": 4,
 "nbformat_minor": 2
}
