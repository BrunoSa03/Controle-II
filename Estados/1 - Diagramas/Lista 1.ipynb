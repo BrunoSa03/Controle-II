{
 "cells": [
  {
   "attachments": {},
   "cell_type": "markdown",
   "metadata": {},
   "source": [
    "# Lista de Exercícios 1 - Sistemas de Conotrole II"
   ]
  },
  {
   "attachments": {},
   "cell_type": "markdown",
   "metadata": {},
   "source": [
    "1 - Determine a ordem, número de entradas e número de saídas do seguinte sistema. Justifique suas respostas."
   ]
  },
  {
   "cell_type": "code",
   "execution_count": 84,
   "metadata": {},
   "outputs": [
    {
     "data": {
      "text/latex": [
       "$\\displaystyle \\dot{\\mathbf{x}} = \\left[\\begin{array}{rrrrr}0.376&0.536&-0.049&-0.156&-0.549\\\\-1.616&0.653&-1.736&-2.27&-0.96\\\\-0.837&-0.968&0.226&1.177&0.227\\\\0.248&0.648&-0.371&-0.282&0.044\\\\-1.44&-0.278&-0.055&2.394&0.761\\\\\\end{array}\\right]\\mathbf{x}+\\left[\\begin{array}{rr}-1.774&0.137\\\\0.036&-0.888\\\\-0.19&0.994\\\\-0.147&-0.226\\\\-1.627&-0.448\\\\\\end{array}\\right]\\mathbf{u}$"
      ],
      "text/plain": [
       "<IPython.core.display.Math object>"
      ]
     },
     "metadata": {},
     "output_type": "display_data"
    },
    {
     "data": {
      "text/latex": [
       "$\\displaystyle \\mathbf{y} = \\left[\\begin{array}{rrrrr}0.214&-0.233&1.519&1.682&0.023\\\\\\end{array}\\right]\\mathbf{x} + \\left[\\begin{array}{rr}2.501&0.391\\\\\\end{array}\\right]\\mathbf{u}$"
      ],
      "text/plain": [
       "<IPython.core.display.Math object>"
      ]
     },
     "metadata": {},
     "output_type": "display_data"
    }
   ],
   "source": [
    "#\n",
    "import numpy as np\n",
    "from escrever import *\n",
    "from IPython.display import display, Math\n",
    "esc = escrever()\n",
    "\n",
    "n = np.random.randint(4,6)\n",
    "p = np.random.randint(1,4)\n",
    "q = np.random.randint(1,4)\n",
    "\n",
    "A = np.random.randn(n,n).round(decimals=3)\n",
    "B = np.random.randn(n,p).round(decimals=3)\n",
    "C = np.random.randn(q,n).round(decimals=3)\n",
    "D = np.random.randn(q,p).round(decimals=3)\n",
    "\n",
    "def dispss(A,B,C,D):\n",
    "    str1 = r'\\dot{\\mathbf{x}} = ' + esc.dispmat(A) + r'\\mathbf{x}'\n",
    "    str1 = str1 + '+' + esc.dispmat(B) + r'\\mathbf{u}'\n",
    "    str2 = r'\\mathbf{y} = ' + esc.dispmat(C) + r'\\mathbf{x} +'\n",
    "    str2 = str2 + esc.dispmat(D) + r'\\mathbf{u}'\n",
    "    return [str1,str2]\n",
    "\n",
    "esc.sist(A,B,C,D)\n"
   ]
  },
  {
   "attachments": {},
   "cell_type": "markdown",
   "metadata": {},
   "source": [
    "2 - Para o sistema abaixo, determine o diagrama na forma de controlador e as equações de estados na forma matricial na forma de controlador."
   ]
  },
  {
   "cell_type": "code",
   "execution_count": 85,
   "metadata": {},
   "outputs": [
    {
     "data": {
      "text/latex": [
       "$\\displaystyle G(s) = \\frac{6 \\left(s + 0.6\\right) \\left(s + 0.9\\right)}{\\left(s - 5\\right) \\left(s + 9\\right) \\left(s + 10\\right)}$"
      ],
      "text/plain": [
       "<IPython.core.display.Math object>"
      ]
     },
     "metadata": {},
     "output_type": "display_data"
    }
   ],
   "source": [
    "#\n",
    "import sympy as sp\n",
    "z = np.random.randint(low=1,high=10,size=2)\n",
    "p = np.random.randint(-10,10,3)\n",
    "s = sp.symbols('s')\n",
    "L1 = [(s-l) for l in p]\n",
    "L2 = [(s+l/10) for l in z]\n",
    "num = np.random.randint(1,20)*sp.prod(L2)\n",
    "den = sp.prod(L1)\n",
    "G = num/den\n",
    "display(Math('G(s) = ' + sp.latex(G)))\n"
   ]
  },
  {
   "attachments": {},
   "cell_type": "markdown",
   "metadata": {},
   "source": [
    "3 - Estude a controlabilidade do sistema abaixo"
   ]
  },
  {
   "cell_type": "code",
   "execution_count": 86,
   "metadata": {},
   "outputs": [
    {
     "data": {
      "text/latex": [
       "$\\displaystyle \\dot{\\mathbf{x}} = \\left[\\begin{array}{rrr}-5&0&0\\\\1&4&0\\\\0&0&-4\\\\\\end{array}\\right]\\mathbf{x}+\\left[\\begin{array}{r}0\\\\0\\\\1\\\\\\end{array}\\right]\\mathbf{u}$"
      ],
      "text/plain": [
       "<IPython.core.display.Math object>"
      ]
     },
     "metadata": {},
     "output_type": "display_data"
    },
    {
     "data": {
      "text/latex": [
       "$\\displaystyle \\mathbf{y} = \\left[\\begin{array}{rrr}-5&-9&-2\\\\\\end{array}\\right]\\mathbf{x} + \\left[\\begin{array}{r}0\\\\\\end{array}\\right]\\mathbf{u}$"
      ],
      "text/plain": [
       "<IPython.core.display.Math object>"
      ]
     },
     "metadata": {},
     "output_type": "display_data"
    }
   ],
   "source": [
    "#\n",
    "roll = lambda : np.random.randint(-9,9)\n",
    "A = np.array([[roll(),0,0],[1,roll(),0],[0,0,roll()]])\n",
    "B = np.random.randint(0,2,(3,1))\n",
    "C = np.random.randint(-9,9,(1,3))\n",
    "D = np.array([[0]])\n",
    "esc.sist(A,B,C,D)"
   ]
  },
  {
   "attachments": {},
   "cell_type": "markdown",
   "metadata": {},
   "source": [
    "4 - Determine os valores de $k \\in \\mathbb{R}$ que tornam o sistema abaixo seja **não** controlável."
   ]
  },
  {
   "cell_type": "code",
   "execution_count": 87,
   "metadata": {},
   "outputs": [
    {
     "data": {
      "text/latex": [
       "$\\displaystyle \\dot{\\mathbf{x}} = \\left[\\begin{matrix}-6 & -8\\\\-7 & -6\\end{matrix}\\right]\\mathbf{x}+\\left[\\begin{matrix}k\\\\10\\end{matrix}\\right]u$"
      ],
      "text/plain": [
       "<IPython.core.display.Math object>"
      ]
     },
     "metadata": {},
     "output_type": "display_data"
    },
    {
     "data": {
      "text/latex": [
       "$\\displaystyle y =\\left[\\begin{matrix}1 & 2\\end{matrix}\\right]\\mathbf{x}$"
      ],
      "text/plain": [
       "<IPython.core.display.Math object>"
      ]
     },
     "metadata": {},
     "output_type": "display_data"
    }
   ],
   "source": [
    "# Utilize G(s) como:\n",
    "import sympy as sp\n",
    "A = sp.Matrix(np.random.randint(low=-10,high=10,size=(2,2)))\n",
    "k = sp.symbols('k')\n",
    "B = sp.Matrix([[k],[np.random.randint(1,20)]])\n",
    "C = sp.Matrix(np.random.randint(0,10,size=(1,2)))\n",
    "s = sp.symbols('s')\n",
    "display(Math(r'\\dot{\\mathbf{x}} = ' + sp.latex(A) + r'\\mathbf{x}+' +  sp.latex(B) + 'u'))\n",
    "display(Math(r'y =' + sp.latex(C) + '\\mathbf{x}'))\n"
   ]
  },
  {
   "attachments": {},
   "cell_type": "markdown",
   "metadata": {},
   "source": [
    "5 - Determine a forma de Jordan dos seguintes sistemas:"
   ]
  },
  {
   "cell_type": "code",
   "execution_count": 88,
   "metadata": {},
   "outputs": [
    {
     "data": {
      "text/latex": [
       "$\\displaystyle G(s) = \\frac{10 \\left(s + 0.9\\right)^{2}}{\\left(s - 8\\right) \\left(s + 1\\right) \\left(s + 2\\right)}$"
      ],
      "text/plain": [
       "<IPython.core.display.Math object>"
      ]
     },
     "metadata": {},
     "output_type": "display_data"
    }
   ],
   "source": [
    "# (a)\n",
    "import sympy as sp\n",
    "z = np.random.randint(low=1,high=10,size=2)\n",
    "p = np.random.randint(-10,10,3)\n",
    "s = sp.symbols('s')\n",
    "L1 = [(s-l) for l in p]\n",
    "L2 = [(s+l/10) for l in z]\n",
    "num = np.random.randint(1,20)*sp.prod(L2)\n",
    "den = sp.prod(L1)\n",
    "G = num/den\n",
    "display(Math('G(s) = ' + sp.latex(G)))\n"
   ]
  },
  {
   "cell_type": "code",
   "execution_count": 89,
   "metadata": {},
   "outputs": [
    {
     "data": {
      "text/latex": [
       "$\\displaystyle G(s) = \\frac{10 \\left(s + 0.3\\right) \\left(s + 0.8\\right)}{\\left(s - 9\\right) \\left(s + 2\\right) \\left(s + 4\\right)^{3}}$"
      ],
      "text/plain": [
       "<IPython.core.display.Math object>"
      ]
     },
     "metadata": {},
     "output_type": "display_data"
    }
   ],
   "source": [
    "# (b)\n",
    "import sympy as sp\n",
    "z = np.random.randint(low=1,high=10,size=2)\n",
    "p = np.random.randint(-10,10,3)\n",
    "p = np.append(p,[p[-1]]*2)\n",
    "s = sp.symbols('s')\n",
    "L1 = [(s-l) for l in p]\n",
    "L2 = [(s+l/10) for l in z]\n",
    "num = np.random.randint(1,20)*sp.prod(L2)\n",
    "den = sp.prod(L1)\n",
    "G = num/den\n",
    "display(Math('G(s) = ' + sp.latex(G)))\n"
   ]
  },
  {
   "cell_type": "code",
   "execution_count": 90,
   "metadata": {},
   "outputs": [
    {
     "data": {
      "text/latex": [
       "$\\displaystyle G(s) = \\frac{19 \\left(s + 0.2\\right) \\left(s + 0.6\\right)}{s^{3} + 5 s^{2} + 7 s - 13}$"
      ],
      "text/plain": [
       "<IPython.core.display.Math object>"
      ]
     },
     "metadata": {},
     "output_type": "display_data"
    }
   ],
   "source": [
    "# (c)\n",
    "import sympy as sp\n",
    "z = np.random.randint(low=1,high=10,size=2)\n",
    "p = np.random.randint(-10,10,3)\n",
    "s = sp.symbols('s')\n",
    "L1 = [(s-p[0]), s-(p[1]+sp.I*p[2]), s-(p[1]-sp.I*p[2])]\n",
    "L2 = [(s+l/10) for l in z]\n",
    "num = np.random.randint(1,20)*sp.prod(L2)\n",
    "den = sp.prod(L1).expand()\n",
    "G = num/den\n",
    "display(Math('G(s) = ' + sp.latex(G)))\n"
   ]
  },
  {
   "attachments": {},
   "cell_type": "markdown",
   "metadata": {},
   "source": [
    "6 - Determine a forma de controlador do sistema $H(s)$ abaixo. Proponha uma matriz de transformação inversível $\\mathbf{T}$. Transforme o sistema utilizando a matriz proposta."
   ]
  },
  {
   "cell_type": "code",
   "execution_count": 91,
   "metadata": {},
   "outputs": [
    {
     "data": {
      "text/latex": [
       "$\\displaystyle H(s) = \\frac{5 s + 0.5}{s^{2} + 22 s + 121}$"
      ],
      "text/plain": [
       "<IPython.core.display.Math object>"
      ]
     },
     "metadata": {},
     "output_type": "display_data"
    }
   ],
   "source": [
    "# Utilize H(s) como:\n",
    "import sympy as sp\n",
    "z = np.random.randint(low=-10,high=9,size=1)\n",
    "p = np.random.randint(10,20,2)\n",
    "s = sp.symbols('s')\n",
    "L1 = [(s+l) for l in p]\n",
    "L2 = [(s-l/10) for l in z]\n",
    "num = np.random.randint(1,20)*sp.prod(L2).expand()\n",
    "den = sp.prod(L1).expand()\n",
    "H = num/den\n",
    "display(Math('H(s) = ' + sp.latex(H)))\n"
   ]
  },
  {
   "attachments": {},
   "cell_type": "markdown",
   "metadata": {},
   "source": [
    "7 - Para a função de transferência dada, encontre a FCC e a forma de Jordan do sistema. Depois, encontre a matriz de transformação entre as duas formas e verifique o resultado."
   ]
  },
  {
   "cell_type": "code",
   "execution_count": 92,
   "metadata": {},
   "outputs": [
    {
     "data": {
      "text/latex": [
       "$\\displaystyle G(s) = \\frac{2 \\cdot \\left(14 s + 107\\right)}{\\left(s + 7\\right) \\left(s + 8\\right)}$"
      ],
      "text/plain": [
       "<IPython.core.display.Math object>"
      ]
     },
     "metadata": {},
     "output_type": "display_data"
    }
   ],
   "source": [
    "#\n",
    "n = 2\n",
    "if n==2:\n",
    "    p = np.random.randint(1,9,20)\n",
    "    p0 = p[0]\n",
    "    p1 = p[p!=p0][0]\n",
    "    r = np.random.randint(1,20,2)\n",
    "    s = sp.symbols('s')\n",
    "    G = r[0]/(s+p0)+r[1]/(s+p1)\n",
    "    G = G.simplify()\n",
    "    display(Math('G(s) = ' + sp.latex(G)))\n",
    "elif n==3:\n",
    "    a = np.random.randint(1,9)\n",
    "    sigma = np.random.randint(1,9)\n",
    "    omega = np.random.randint(1,9)\n",
    "    Aj = np.array([[-a,0,0],[0,-sigma,omega],[0, -omega,-sigma]])\n",
    "    Bj = np.ones((3,1))\n",
    "    Cj = np.block([[np.random.randint(1,9), \n",
    "                    2*np.random.randint(-5,6), \n",
    "                    -2*np.random.randint(-5,6) ]])\n",
    "    s = sp.symbols('s')\n",
    "    G = sp.Matrix(Cj) @ sp.Inverse(s*sp.eye(3)-sp.Matrix(Aj)) @ sp.Matrix(Bj)\n",
    "    G = G[0].simplify()\n",
    "    display(Math('G(s) = ' + sp.latex(G)))"
   ]
  }
 ],
 "metadata": {
  "kernelspec": {
   "display_name": "Python 3",
   "language": "python",
   "name": "python3"
  },
  "language_info": {
   "codemirror_mode": {
    "name": "ipython",
    "version": 3
   },
   "file_extension": ".py",
   "mimetype": "text/x-python",
   "name": "python",
   "nbconvert_exporter": "python",
   "pygments_lexer": "ipython3",
   "version": "3.11.1"
  },
  "orig_nbformat": 4,
  "vscode": {
   "interpreter": {
    "hash": "f43b9f0468558e883c45727ce3dc698e7795bc0630df88d4bf17eef171fcc3ac"
   }
  }
 },
 "nbformat": 4,
 "nbformat_minor": 2
}
