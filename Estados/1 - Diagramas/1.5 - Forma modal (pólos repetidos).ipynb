{
 "cells": [
  {
   "cell_type": "markdown",
   "metadata": {},
   "source": [
    "## **Forma de Jordan com polos reais e repetidos**"
   ]
  },
  {
   "cell_type": "markdown",
   "metadata": {},
   "source": [
    "Suponha que:\n",
    "$$\n",
    "\\begin{align}\n",
    "    G(s) &= \\frac{16s}{(s+3)^2(s+5)}\n",
    "\\end{align}\n",
    "$$\n",
    "\n",
    "Vamos calcular rapidamente os resíduos e a expansão:"
   ]
  },
  {
   "cell_type": "code",
   "execution_count": 2,
   "metadata": {
    "code_folding": [
     0
    ]
   },
   "outputs": [
    {
     "name": "stdout",
     "output_type": "stream",
     "text": [
      "Resíduos:  [ 20. -24. -20.]\n",
      "Pólos:  [-3. -3. -5.]\n"
     ]
    }
   ],
   "source": [
    "# Calcula resíduos e pólos\n",
    "import numpy as np\n",
    "import scipy.signal as sig\n",
    "num = np.array([16,0])\n",
    "\n",
    "# As duas próximas calculam o denominador\n",
    "den = np.convolve([1,3],[1,3])\n",
    "den = np.convolve(den,[1,5])\n",
    "\n",
    "# Acha os resíduos. \n",
    "r,p,k = sig.residue(num,den)\n",
    "print('Resíduos: ', r)\n",
    "print('Pólos: ',p)\n"
   ]
  },
  {
   "cell_type": "markdown",
   "metadata": {},
   "source": [
    "Então:\n",
    "$$\n",
    "\\begin{align}\n",
    "    G(s) &= \\frac{20}{(s+3)}-\\frac{24}{(s+3)^2}-\\frac{20}{s+5}\n",
    "\\end{align}\n",
    "$$\n",
    "\n",
    "Observe no diagrama como devemos implementar o termo quadrático:\n",
    "<p align=\"center\">\n",
    "<img src=\"modal3.svg\" width=\"80%\">\n",
    "</p>"
   ]
  },
  {
   "attachments": {},
   "cell_type": "markdown",
   "metadata": {},
   "source": [
    "Observe que os estágios correspondentes ao polo repetido ficam em série, e não em paralelo, diferente dos outros.\n",
    "\n",
    "Equações de estado:\n",
    "$$\n",
    "\\begin{align}\n",
    "    \\dot{x}_1 &= u - 3x_1\\\\\n",
    "    \\dot{x}_2 &= x_1 - 3x_2\\\\\n",
    "    \\dot{x}_3 &= u - 5x_3\\\\\n",
    "    y &= 20x_1 -24x_2-20x_3\n",
    "\\end{align}\n",
    "$$\n",
    "\n",
    "**Agora escreva a representação matricial!**\n",
    "$$\n",
    "\\begin{align}\n",
    "    \\dot{\\mathbf{x}} &= \\left[\\begin{array}{rrr}\n",
    "    -3 & 0 & 0\\\\\n",
    "     1 & -3 & 0\\\\\n",
    "     0 &  0 & -5\n",
    "    \\end{array}\\right]\\mathbf{x} +\n",
    "    \\left[\\begin{array}{r}\n",
    "     1 \\\\\n",
    "     0 \\\\\n",
    "     1 \n",
    "    \\end{array}\\right]u\\\\\n",
    "    y &= \\left[\\begin{array}{}\n",
    "    20 & -24 & -20\n",
    "    \\end{array}\\right]\\mathbf{x}\n",
    "\\end{align}\n",
    "$$"
   ]
  }
 ],
 "metadata": {
  "kernelspec": {
   "display_name": "Python 3 (ipykernel)",
   "language": "python",
   "name": "python3"
  },
  "language_info": {
   "codemirror_mode": {
    "name": "ipython",
    "version": 3
   },
   "file_extension": ".py",
   "mimetype": "text/x-python",
   "name": "python",
   "nbconvert_exporter": "python",
   "pygments_lexer": "ipython3",
   "version": "3.11.1"
  },
  "vscode": {
   "interpreter": {
    "hash": "e1735dd0795dce195fb98475ccf229151ed44a61fb274eb18cdb7c8302916985"
   }
  }
 },
 "nbformat": 4,
 "nbformat_minor": 2
}
