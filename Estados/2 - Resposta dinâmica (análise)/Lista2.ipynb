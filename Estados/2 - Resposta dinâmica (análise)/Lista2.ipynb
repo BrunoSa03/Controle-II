{
 "cells": [
  {
   "attachments": {},
   "cell_type": "markdown",
   "metadata": {},
   "source": [
    "# Lista de exercícios 2"
   ]
  },
  {
   "cell_type": "code",
   "execution_count": 107,
   "metadata": {},
   "outputs": [],
   "source": [
    "#\n",
    "import numpy as np\n",
    "from numpy.random import randint\n",
    "from IPython.display import display, Math\n",
    "from escrever import *\n",
    "esc = escrever()"
   ]
  },
  {
   "attachments": {},
   "cell_type": "markdown",
   "metadata": {},
   "source": [
    "1 - Determine **manualmente** a função de transferência do sistema cuja representação de estados é:"
   ]
  },
  {
   "cell_type": "code",
   "execution_count": 44,
   "metadata": {},
   "outputs": [
    {
     "data": {
      "text/latex": [
       "$\\displaystyle \\dot{\\mathbf{x}} = \\left[\\begin{array}{rr}-9.0&-2.0\\\\6.0&-1.0\\\\\\end{array}\\right]\\mathbf{x}+\\left[\\begin{array}{r}3.0\\\\2.0\\\\\\end{array}\\right]\\mathbf{u}$"
      ],
      "text/plain": [
       "<IPython.core.display.Math object>"
      ]
     },
     "metadata": {},
     "output_type": "display_data"
    },
    {
     "data": {
      "text/latex": [
       "$\\displaystyle \\mathbf{y} = \\left[\\begin{array}{rr}-5.0&-8.0\\\\\\end{array}\\right]\\mathbf{x} + \\left[\\begin{array}{r}0.0\\\\\\end{array}\\right]\\mathbf{u}$"
      ],
      "text/plain": [
       "<IPython.core.display.Math object>"
      ]
     },
     "metadata": {},
     "output_type": "display_data"
    }
   ],
   "source": [
    "# Execute esta célula para gerar o sistema do problema 1\n",
    "A = np.float32(randint(-9,9,(2,2)))\n",
    "B = np.float32(randint(0,10,(2,1)))\n",
    "C = np.float32(randint(-10,10,(1,2)))\n",
    "D = np.array([[0.]])\n",
    "esc.sist(A,B,C,D)"
   ]
  },
  {
   "attachments": {},
   "cell_type": "markdown",
   "metadata": {},
   "source": [
    "2 - Seja o sistema a seguir:"
   ]
  },
  {
   "cell_type": "code",
   "execution_count": 106,
   "metadata": {},
   "outputs": [
    {
     "data": {
      "text/latex": [
       "$\\displaystyle \\dot{\\mathbf{x}} = \\left[\\begin{array}{rrrr}-3.6&-5.12&-3.384&-1.589\\\\1.0&0.0&0.0&0.0\\\\0.0&1.0&0.0&0.0\\\\0.0&0.0&1.0&0.0\\\\\\end{array}\\right]\\mathbf{x}+\\left[\\begin{array}{r}1\\\\0\\\\0\\\\0\\\\\\end{array}\\right]\\mathbf{u}$"
      ],
      "text/plain": [
       "<IPython.core.display.Math object>"
      ]
     },
     "metadata": {},
     "output_type": "display_data"
    },
    {
     "data": {
      "text/latex": [
       "$\\displaystyle \\mathbf{y} = \\left[\\begin{array}{rrrr}0.0&0.0&1.854&1.112\\\\\\end{array}\\right]\\mathbf{x} + \\left[\\begin{array}{r}0\\\\\\end{array}\\right]\\mathbf{u}$"
      ],
      "text/plain": [
       "<IPython.core.display.Math object>"
      ]
     },
     "metadata": {},
     "output_type": "display_data"
    }
   ],
   "source": [
    "# Execute para gerar o sistema do problema 2\n",
    "a = randint(1,4)/10\n",
    "b  = randint(2,8)/10\n",
    "s1 = -a+1j*b\n",
    "s2 = np.conjugate(s1)\n",
    "k = randint(1,10)\n",
    "s3 = -k*a+1j*b\n",
    "s4 = np.conjugate(s3)\n",
    "p = randint(2,10)\n",
    "c = -p*a\n",
    "den = np.poly([s1,s2,s3,s4])\n",
    "num = den[-1]*np.poly([c])*(randint(1,10)/10)/abs(c)\n",
    "A = np.block([[-den[1:]],[np.eye(3), np.zeros((3,1))]])\n",
    "B = np.array([[1],[0],[0],[0]])\n",
    "C = np.block([[np.zeros((1,2)), num]])\n",
    "D = np.array([[0]])\n",
    "esc.sist(A.round(3),B.round(3),C.round(3),D.round(3))"
   ]
  },
  {
   "attachments": {},
   "cell_type": "markdown",
   "metadata": {},
   "source": [
    "Determine:\n",
    " - Todos os pólos e zeros\n",
    " - Amortecimentos e frequências naturais\n",
    "\n",
    "Se o equilíbrio for estável, determine também:\n",
    " - Ganho DC. \n",
    " - Os pólos dominantes, justificando sua resposta\n",
    " - Overshoot e tempo de acomodação estimados pelos pólos dominantes\n",
    " - Simulação de resposta ao degrau, se estável"
   ]
  },
  {
   "attachments": {},
   "cell_type": "markdown",
   "metadata": {},
   "source": [
    "3 - Determine os zeros de transmissão do sistema dado a seguir."
   ]
  },
  {
   "cell_type": "code",
   "execution_count": null,
   "metadata": {},
   "outputs": [],
   "source": []
  },
  {
   "attachments": {},
   "cell_type": "markdown",
   "metadata": {},
   "source": [
    "4 - Verifique se o sistema a seguir é estável. Caso seja, determine **analiticamente** os estados e o sinal de saída correspondente a uma entrada degrau unitário. \n"
   ]
  },
  {
   "cell_type": "code",
   "execution_count": null,
   "metadata": {},
   "outputs": [],
   "source": []
  },
  {
   "attachments": {},
   "cell_type": "markdown",
   "metadata": {},
   "source": [
    "5 - Para o sistema \n",
    "$$\n",
    "\\begin{align}\n",
    "    G(s) = \\frac{2(s+a)}{(s+b)(s+c)}\n",
    "\\end{align}\n",
    "$$\n",
    "\n",
    "Encontre as equações de estados na forma canônica de controlador. \n",
    "\n",
    "Resolva analiticamente as equações de estados para uma entrada degrau unitário. \n",
    "\n",
    "Analise o que acontece com os estados e com o sinal de saída quando $a\\approx b$ "
   ]
  }
 ],
 "metadata": {
  "kernelspec": {
   "display_name": "Python 3",
   "language": "python",
   "name": "python3"
  },
  "language_info": {
   "codemirror_mode": {
    "name": "ipython",
    "version": 3
   },
   "file_extension": ".py",
   "mimetype": "text/x-python",
   "name": "python",
   "nbconvert_exporter": "python",
   "pygments_lexer": "ipython3",
   "version": "3.11.1"
  },
  "orig_nbformat": 4
 },
 "nbformat": 4,
 "nbformat_minor": 2
}
